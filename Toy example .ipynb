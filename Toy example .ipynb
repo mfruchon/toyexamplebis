{
 "cells": [
  {
   "cell_type": "code",
   "execution_count": 47,
   "id": "fa7a055d",
   "metadata": {},
   "outputs": [],
   "source": [
    "from sage.crypto.sboxes import sboxes\n",
    "from sage.all import *\n",
    "from sboxU import * \n",
    "from sage.geometry.hyperplane_arrangement.affine_subspace import AffineSubspace\n",
    "import itertools\n",
    "import tracemalloc \n",
    "import gc\n",
    "gc.enable()\n",
    "F=GF(2)"
   ]
  },
  {
   "cell_type": "code",
   "execution_count": 2,
   "id": "7cdcb975",
   "metadata": {},
   "outputs": [
    {
     "data": {
      "text/plain": [
       "[2, 6, 7, 11, 14, 15]"
      ]
     },
     "execution_count": 2,
     "metadata": {},
     "output_type": "execute_result"
    }
   ],
   "source": [
    "XDDT=[]\n",
    "YDDT=[]\n",
    "S = list( sboxes['SKINNY_4']) \n",
    "DDT=ddt(S)\n",
    "for a in range(0,16):\n",
    "    lax=[]\n",
    "    lay=[]\n",
    "    for b in range(0,16): \n",
    "        lx=[]\n",
    "        ly=[]\n",
    "        for x in range(0,16): \n",
    "            if (int(S[(x^^a)%16])^^int(S[x]))==b : \n",
    "                lx.append(x)\n",
    "                ly.append(S[x])\n",
    "        lax.append(lx)\n",
    "        lay.append(ly)\n",
    "    XDDT.append(lax)\n",
    "    YDDT.append(lay)\n",
    "    \n",
    "tran=[[] for i in range(16)]\n",
    "traninv=[[] for i in range(16)]\n",
    "\n",
    "for i in range(16):\n",
    "    for j in range(16):\n",
    "        if DDT[i][j]>0:\n",
    "            tran[i].append(j)\n",
    "            traninv[j].append(i)\n",
    "\n",
    "traninv[3]"
   ]
  },
  {
   "cell_type": "code",
   "execution_count": 3,
   "id": "eed75ebc",
   "metadata": {},
   "outputs": [],
   "source": [
    "def tobin(x, n):\n",
    "    return [(x >> i) & 1 for i in reversed(range(0, n))]\n",
    "\n",
    "def frombin(v):\n",
    "    y = 0\n",
    "    for i in range(0, len(v)):\n",
    "        y = (y << 1) | int(v[i])\n",
    "    return y\n",
    "\n",
    "def apply_bin_mat(x, mat):\n",
    "    n = mat.ncols()\n",
    "    x = Matrix(GF(2), n, 1, tobin(x, n))\n",
    "    y = mat * x\n",
    "    return frombin(y.T[0][:mat.nrows()])\n",
    "\n",
    "def bin_dot_product(alpha,beta,n): #alpha et beta sont des vecteurs binaires de longueur n\n",
    "    res = 0\n",
    "    for i in range (0,n):\n",
    "        res =(res + alpha[i]*beta[i]) % 2\n",
    "    return res\n",
    "def from_64_to_16(x):\n",
    "    res=[]\n",
    "    for i in range(16):\n",
    "        res.append(frombin(x[4*i:4*i+4]))\n",
    "    return res\n",
    "def ps(x,y,m,n): ## x and y are vectors of len n, each entry is m bits\n",
    "    res=0\n",
    "    for i in range(n):\n",
    "        res += bin_dot_product(tobin(x[i],m),tobin(y[i],m),m)\n",
    "    return res%2\n"
   ]
  },
  {
   "cell_type": "code",
   "execution_count": 4,
   "id": "fedb6d5e",
   "metadata": {},
   "outputs": [
    {
     "data": {
      "text/plain": [
       "[(0, 0, 0, 1),\n",
       " (0, 0, 1, 1),\n",
       " (0, 1, 0, 1),\n",
       " (0, 1, 1, 1),\n",
       " (1, 0, 0, 1),\n",
       " (1, 0, 1, 1),\n",
       " (1, 1, 0, 1),\n",
       " (1, 1, 1, 1)]"
      ]
     },
     "execution_count": 4,
     "metadata": {},
     "output_type": "execute_result"
    }
   ],
   "source": [
    "## On précalcule l'orthogonal de tous les éléments de 0,15\n",
    "F =GF(2)\n",
    "Orthos=[[0] for i in range(16)] ## Dans Orthos les éléments sont des nombres entre 0 et 15, dans Orthos_bin, des vecctor(F) \n",
    "Orthos[0]= [i for i in range(16)]\n",
    "Orthos_bin=[[vector(F,[0,0,0,0])]for i in range(16)]\n",
    "Orthos_bin[0]=[vector(F,tobin(i,4)) for i in range(16)]\n",
    "for j in range(1,16):\n",
    "    for i in range(1,16):\n",
    "        if bin_dot_product(tobin(i,4), tobin(j,4),4)==0 :\n",
    "            Orthos[j].append(i)\n",
    "            Orthos_bin[j].append(vector(F,tobin(i,4)))\n",
    "            \n",
    "\n",
    "\n",
    "            \n",
    "anti_Orthos_bin=[[] for i in range(16)]\n",
    "for j in range(1,16):\n",
    "    for i in range(1,16):\n",
    "        if bin_dot_product(tobin(i,4), tobin(j,4),4)==1 :\n",
    "            anti_Orthos_bin[j].append(vector(F,tobin(i,4)))\n",
    "            \n",
    "anti_Orthos_bin[1]   "
   ]
  },
  {
   "cell_type": "code",
   "execution_count": 5,
   "id": "26815df7",
   "metadata": {},
   "outputs": [
    {
     "data": {
      "text/plain": [
       "[(1, 0, 0, 1), (0, 1, 0, 0), (0, 0, 1, 0)]"
      ]
     },
     "execution_count": 5,
     "metadata": {},
     "output_type": "execute_result"
    }
   ],
   "source": [
    "def donne_base(l): ## Donne une base d'un ev étant donnés ses éléments\n",
    "    R=Matrix(F, l).echelon_form()\n",
    "    return [R.row(i) for i in range(R.nrows()) if R.row(i).is_zero() == False]\n",
    "v=vector(F,[1,0,0,1])\n",
    "bases_Orthos=[donne_base(Orthos_bin[i]) for i in range(16)]\n",
    "\n",
    "bases_Orthos[9]"
   ]
  },
  {
   "cell_type": "code",
   "execution_count": 6,
   "id": "7812e386",
   "metadata": {},
   "outputs": [],
   "source": [
    "def compute_ortho(X): ## X est un ev de taille <=4 :\n",
    "    V=span(bases_Orthos[X[0]])\n",
    "    for i in range(1,len(X)):\n",
    "        V=V.intersection(span(bases_Orthos[X[i]]))\n",
    "    return V\n",
    "\n",
    "def compute_anti_ortho(v):## Calcule l'anti ortho d'un élément v \n",
    "    return AffineSubspace(anti_Orthos_bin[v][0],compute_ortho([v]))\n",
    "\n",
    "def donne_elts(A):## Donne la liste des éléments d'un espace affine A:\n",
    "    l=A.linear_part().list()\n",
    "    p=list(A.point())\n",
    "    resultat = []\n",
    "    for element in l:\n",
    "        resultat.append(tuple([x + y for x, y in zip(element, p)]))\n",
    "    return resultat"
   ]
  },
  {
   "cell_type": "code",
   "execution_count": 7,
   "id": "468e3831",
   "metadata": {
    "scrolled": true
   },
   "outputs": [
    {
     "data": {
      "text/plain": [
       "Affine space p + W where:\n",
       "  p = (0, 0, 0, 1)\n",
       "  W = Vector space of degree 4 and dimension 3 over Finite Field of size 2\n",
       "Basis matrix:\n",
       "[1 0 0 0]\n",
       "[0 1 0 0]\n",
       "[0 0 1 0]"
      ]
     },
     "execution_count": 7,
     "metadata": {},
     "output_type": "execute_result"
    }
   ],
   "source": [
    "compute_anti_ortho(1)"
   ]
  },
  {
   "cell_type": "code",
   "execution_count": 8,
   "id": "8752caee",
   "metadata": {},
   "outputs": [
    {
     "data": {
      "text/plain": [
       "Affine space p + W where:\n",
       "  p = (0, 1, 1, 1)\n",
       "  W = Vector space of degree 4 and dimension 1 over Finite Field of size 2\n",
       "Basis matrix:\n",
       "[1 0 0 0]"
      ]
     },
     "execution_count": 8,
     "metadata": {},
     "output_type": "execute_result"
    }
   ],
   "source": [
    "compute_anti_ortho(2).intersection(AffineSubspace(0,compute_ortho(XDDT[3][8])))"
   ]
  },
  {
   "cell_type": "code",
   "execution_count": 9,
   "id": "bf472ee2",
   "metadata": {},
   "outputs": [],
   "source": [
    "## On cherche quand est-ce que XDDT(beta,gamma_1)ortho inter XDDT(beta, gamma4)ortho est inclus dans {0,4,8,12}\n",
    "G=span([vector(F,[1,0,0,0]),vector(F,[0,1,0,0])])\n",
    "charok=[]\n",
    "for beta in range(16):\n",
    "    for gamma1 in range(16):\n",
    "        for gamma4 in range(16):\n",
    "            if DDT[beta][gamma1] > 0 and DDT[beta][gamma4] > 0 :\n",
    "                V=compute_ortho(XDDT[beta][gamma1]).intersection(compute_ortho(XDDT[beta][gamma4]))\n",
    "                if V.dimension()>0 and V.is_subspace(G) :\n",
    "                    charok.append((beta,gamma1,gamma4,V))\n",
    "V=None\n"
   ]
  },
  {
   "cell_type": "code",
   "execution_count": 10,
   "id": "5495ea7b",
   "metadata": {},
   "outputs": [
    {
     "data": {
      "text/plain": [
       "89"
      ]
     },
     "execution_count": 10,
     "metadata": {},
     "output_type": "execute_result"
    }
   ],
   "source": [
    "len(charok)"
   ]
  },
  {
   "cell_type": "code",
   "execution_count": 11,
   "id": "35570e0a",
   "metadata": {},
   "outputs": [
    {
     "data": {
      "text/plain": [
       "[(3,\n",
       "  12,\n",
       "  15,\n",
       "  Vector space of degree 4 and dimension 2 over Finite Field of size 2\n",
       "  Basis matrix:\n",
       "  [1 0 0 0]\n",
       "  [0 1 0 0]),\n",
       " (3,\n",
       "  15,\n",
       "  12,\n",
       "  Vector space of degree 4 and dimension 2 over Finite Field of size 2\n",
       "  Basis matrix:\n",
       "  [1 0 0 0]\n",
       "  [0 1 0 0]),\n",
       " (3,\n",
       "  15,\n",
       "  15,\n",
       "  Vector space of degree 4 and dimension 2 over Finite Field of size 2\n",
       "  Basis matrix:\n",
       "  [1 0 0 0]\n",
       "  [0 1 0 0])]"
      ]
     },
     "execution_count": 11,
     "metadata": {},
     "output_type": "execute_result"
    }
   ],
   "source": [
    "charokdim2=[t for t in charok if t[3].dimension()>1]\n",
    "charokdim2"
   ]
  },
  {
   "cell_type": "code",
   "execution_count": 12,
   "id": "535655d4",
   "metadata": {},
   "outputs": [
    {
     "data": {
      "text/plain": [
       "Vector space of degree 4 and dimension 1 over Finite Field of size 2\n",
       "Basis matrix:\n",
       "[0 1 0 0]"
      ]
     },
     "execution_count": 12,
     "metadata": {},
     "output_type": "execute_result"
    }
   ],
   "source": [
    "compute_ortho(XDDT[8][13]).intersection(compute_ortho(XDDT[8][12]))"
   ]
  },
  {
   "cell_type": "code",
   "execution_count": 13,
   "id": "6f4a5add",
   "metadata": {},
   "outputs": [
    {
     "data": {
      "text/plain": [
       "Vector space of degree 4 and dimension 2 over Finite Field of size 2\n",
       "Basis matrix:\n",
       "[1 0 0 0]\n",
       "[0 1 0 0]"
      ]
     },
     "execution_count": 13,
     "metadata": {},
     "output_type": "execute_result"
    }
   ],
   "source": [
    "compute_ortho(XDDT[3][12]).intersection(compute_ortho(XDDT[3][15]))"
   ]
  },
  {
   "cell_type": "code",
   "execution_count": 14,
   "id": "9f84f73c",
   "metadata": {},
   "outputs": [],
   "source": [
    "def somme(alpha,beta):\n",
    "    res=0\n",
    "    for x in range(16):\n",
    "        if (bin_dot_product(alpha,tobin(x,4),4) + bin_dot_product(beta,tobin(S[x],4),4))%2==0:\n",
    "            res +=1\n",
    "        else : \n",
    "            res -=1\n",
    "    return res"
   ]
  },
  {
   "cell_type": "code",
   "execution_count": 15,
   "id": "e52485e2",
   "metadata": {
    "scrolled": true
   },
   "outputs": [
    {
     "data": {
      "text/plain": [
       "[4, 8, 12]"
      ]
     },
     "execution_count": 15,
     "metadata": {},
     "output_type": "execute_result"
    }
   ],
   "source": [
    "from sage.crypto.boolean_function import BooleanFunction\n",
    "deg2components=[]\n",
    "for i in range(16):\n",
    "       if (BooleanFunction(component(i,S)).algebraic_degree())==2:\n",
    "            deg2components.append(i)\n",
    "deg2components"
   ]
  },
  {
   "cell_type": "code",
   "execution_count": 16,
   "id": "7650dde6",
   "metadata": {
    "scrolled": true
   },
   "outputs": [
    {
     "name": "stdout",
     "output_type": "stream",
     "text": [
      "[[0, 1], [8, 9]]\n",
      "[[0, 2], [1, 3]]\n",
      "[[0, 11], [1, 10]]\n"
     ]
    }
   ],
   "source": [
    "def computeLS(f):## Calcule LS pour f,composante de S de degré 2\n",
    "    res=[[],[]]\n",
    "    for a in range(16):\n",
    "            ## On teste si la dérivée est constante:\n",
    "            temp=f.derivative(a).algebraic_degree()\n",
    "            if temp==-1 :\n",
    "                res[0].append(a)\n",
    "            if temp==0:\n",
    "                res[1].append(a)\n",
    "    return res\n",
    "\n",
    "for i in deg2components:\n",
    "    print(computeLS(BooleanFunction(component(i,S))))"
   ]
  },
  {
   "cell_type": "code",
   "execution_count": 17,
   "id": "0325a99b",
   "metadata": {},
   "outputs": [
    {
     "data": {
      "text/plain": [
       "([[8], [1], [3, 7, 9]], [[10, 12, 14], [5, 9, 13], [13]])"
      ]
     },
     "execution_count": 17,
     "metadata": {},
     "output_type": "execute_result"
    }
   ],
   "source": [
    "pos=[[] for i in range(len(deg2components))]\n",
    "neg=[[] for i in range(len(deg2components))]\n",
    "\n",
    "for i in range(len(deg2components)):\n",
    "    temp =BooleanFunction(component(deg2components[i],S)).walsh_hadamard_transform()\n",
    "    for j in range(16):\n",
    "        if temp[j]>0:\n",
    "            pos[i].append(j)\n",
    "        if temp[j]<0:\n",
    "            neg[i].append(j)\n",
    "pos,neg"
   ]
  },
  {
   "cell_type": "code",
   "execution_count": 18,
   "id": "ef833a07",
   "metadata": {},
   "outputs": [
    {
     "data": {
      "text/plain": [
       "[4, 8, 12]"
      ]
     },
     "execution_count": 18,
     "metadata": {},
     "output_type": "execute_result"
    }
   ],
   "source": [
    "deg2components"
   ]
  },
  {
   "cell_type": "code",
   "execution_count": 19,
   "id": "eb73c9ac",
   "metadata": {
    "scrolled": false
   },
   "outputs": [
    {
     "name": "stdout",
     "output_type": "stream",
     "text": [
      "(0, 0, 0, 0, 0, 0, 0, 0, 8, 0, -8, 0, -8, 0, -8, 0)\n",
      "(0, 8, 0, 0, 0, -8, 0, 0, 0, -8, 0, 0, 0, -8, 0, 0)\n",
      "(0, 0, 0, 8, 0, 0, 0, 8, 0, 8, 0, 0, 0, -8, 0, 0)\n"
     ]
    }
   ],
   "source": [
    "for i in deg2components:\n",
    "    print(BooleanFunction(component(i,S)).walsh_hadamard_transform())"
   ]
  },
  {
   "cell_type": "code",
   "execution_count": 20,
   "id": "84f8ebec",
   "metadata": {
    "scrolled": true
   },
   "outputs": [
    {
     "data": {
      "text/plain": [
       "[[(1, 0, 0, 0), (1, 1, 0, 0), (1, 0, 1, 0), (1, 1, 1, 0)],\n",
       " [(0, 0, 0, 1), (1, 0, 0, 1), (0, 1, 0, 1), (1, 1, 0, 1)],\n",
       " [(1, 0, 0, 1), (0, 0, 1, 1), (1, 1, 0, 1), (0, 1, 1, 1)]]"
      ]
     },
     "execution_count": 20,
     "metadata": {},
     "output_type": "execute_result"
    }
   ],
   "source": [
    "## Vérifions que le support est bien celui prévu :\n",
    "res=[]\n",
    "for i in deg2components :\n",
    "    LS=computeLS(BooleanFunction(component(i,S)))\n",
    "    res.append(compute_anti_ortho(LS[1][0]).intersection(AffineSubspace(0,compute_ortho(LS[0]))))\n",
    "\n",
    "[donne_elts(k) for k in res] "
   ]
  },
  {
   "cell_type": "code",
   "execution_count": 21,
   "id": "46b203fe",
   "metadata": {},
   "outputs": [],
   "source": [
    "def reduced_walsh_coeff(X,U,Sv):\n",
    "    res=0\n",
    "    u=tobin(U,4)\n",
    "    for x in X : \n",
    "        if (bin_dot_product(tobin(x,4),u,4) + Sv[x])%2==0:\n",
    "            res+=1\n",
    "        else :\n",
    "            res -=1\n",
    "    return res\n",
    "\n",
    "def reduced_walsh_table(X,S):\n",
    "    res=[[] for i in range(16)]\n",
    "    for i in range(16):\n",
    "        Sv=component(i,S)\n",
    "        for u in range(16):\n",
    "            res[i].append(reduced_walsh_coeff(X,u,Sv))\n",
    "    return res\n",
    "    \n"
   ]
  },
  {
   "cell_type": "code",
   "execution_count": 22,
   "id": "c9052056",
   "metadata": {
    "scrolled": false
   },
   "outputs": [
    {
     "data": {
      "text/plain": [
       "[[4, 0, 4, 0, 0, 0, 0, 0, 0, 0, 0, 0, 4, 0, 4, 0],\n",
       " [4, 0, 4, 0, 0, 0, 0, 0, 0, 0, 0, 0, 4, 0, 4, 0],\n",
       " [0, 4, 0, 4, 0, 0, 0, 0, 0, 0, 0, 0, 0, 4, 0, 4],\n",
       " [0, 4, 0, 4, 0, 0, 0, 0, 0, 0, 0, 0, 0, 4, 0, 4],\n",
       " [-4, 0, -4, 0, 0, 0, 0, 0, 0, 0, 0, 0, -4, 0, -4, 0],\n",
       " [-4, 0, -4, 0, 0, 0, 0, 0, 0, 0, 0, 0, -4, 0, -4, 0],\n",
       " [0, -4, 0, -4, 0, 0, 0, 0, 0, 0, 0, 0, 0, -4, 0, -4],\n",
       " [0, -4, 0, -4, 0, 0, 0, 0, 0, 0, 0, 0, 0, -4, 0, -4],\n",
       " [0, 0, 0, 0, 0, -4, 0, -4, 0, -4, 0, -4, 0, 0, 0, 0],\n",
       " [0, 0, 0, 0, 0, -4, 0, -4, 0, -4, 0, -4, 0, 0, 0, 0],\n",
       " [0, 0, 0, 0, -4, 0, -4, 0, -4, 0, -4, 0, 0, 0, 0, 0],\n",
       " [0, 0, 0, 0, -4, 0, -4, 0, -4, 0, -4, 0, 0, 0, 0, 0],\n",
       " [0, 0, 0, 0, 0, 4, 0, 4, 0, 4, 0, 4, 0, 0, 0, 0],\n",
       " [0, 0, 0, 0, 0, 4, 0, 4, 0, 4, 0, 4, 0, 0, 0, 0],\n",
       " [0, 0, 0, 0, 4, 0, 4, 0, 4, 0, 4, 0, 0, 0, 0, 0],\n",
       " [0, 0, 0, 0, 4, 0, 4, 0, 4, 0, 4, 0, 0, 0, 0, 0]]"
      ]
     },
     "execution_count": 22,
     "metadata": {},
     "output_type": "execute_result"
    }
   ],
   "source": [
    "reduced_walsh_table(XDDT[1][10],S)"
   ]
  },
  {
   "cell_type": "code",
   "execution_count": 23,
   "id": "7137c0a3",
   "metadata": {},
   "outputs": [],
   "source": [
    "def ortho_dim2(alpha,beta):## Donne l'orthogonal de (alpha beta) en en calculant les éléments puis une base\n",
    "    res=[]\n",
    "    for x in Orthos_bin[alpha]:\n",
    "        for y in Orthos_bin[beta]:\n",
    "            res.append(vector(F, list(x)+list(y)))\n",
    "    for x in anti_Orthos_bin[alpha]:\n",
    "        for y in anti_Orthos_bin[beta]:\n",
    "            res.append(vector(F, list(x)+list(y)))\n",
    "    return span(donne_base(res))\n",
    "\n",
    "    \n",
    "    "
   ]
  },
  {
   "cell_type": "code",
   "execution_count": 24,
   "id": "27233ddc",
   "metadata": {},
   "outputs": [
    {
     "data": {
      "text/plain": [
       "Vector space of degree 8 and dimension 7 over Finite Field of size 2\n",
       "Basis matrix:\n",
       "[1 0 0 0 0 0 0 0]\n",
       "[0 1 0 0 0 0 0 0]\n",
       "[0 0 1 0 0 0 0 0]\n",
       "[0 0 0 1 0 0 1 0]\n",
       "[0 0 0 0 1 0 0 0]\n",
       "[0 0 0 0 0 1 0 0]\n",
       "[0 0 0 0 0 0 0 1]"
      ]
     },
     "execution_count": 24,
     "metadata": {},
     "output_type": "execute_result"
    }
   ],
   "source": [
    "ortho_dim2(1,2)"
   ]
  },
  {
   "cell_type": "code",
   "execution_count": 25,
   "id": "f11ad190",
   "metadata": {},
   "outputs": [],
   "source": [
    "bcd=[vector(F,[0,0,0,0,0,0,0,1]),vector(F,[0,0,0,0,0,0,1,0]),vector(F,[0,0,0,0,0,1,0,0]),vector(F,[0,0,0,0,1,0,0,0])]\n",
    "bcg=[vector(F,[0,0,0,1,0,0,0,0]),vector(F,[0,0,1,0,0,0,0,0]),vector(F,[0,1,0,0,0,0,0,0]),vector(F,[1,0,0,0,0,0,0,0])]\n"
   ]
  },
  {
   "cell_type": "code",
   "execution_count": 26,
   "id": "4995f080",
   "metadata": {},
   "outputs": [],
   "source": [
    "def donne_x(alpha,beta):## DDT[alpha][beta]==4\n",
    "    if DDT[alpha][beta]!=4:\n",
    "        print(\"Mauvais cardinal dans donne_x\")\n",
    "        return()\n",
    "    if XDDT[alpha][beta][0]^^XDDT[alpha][beta][1]==alpha:\n",
    "        return XDDT[alpha][beta][0], XDDT[alpha][beta][2]\n",
    "    else : \n",
    "        return XDDT[alpha][beta][0],XDDT[alpha][beta][1]"
   ]
  },
  {
   "cell_type": "code",
   "execution_count": 34,
   "id": "816e4b81",
   "metadata": {
    "scrolled": true
   },
   "outputs": [],
   "source": [
    "## On calcule T qui vit dans F⁸\n",
    "def compute_T(theta,alpha,beta,gamma2):\n",
    "    ## On prend l'intersection des différents sous-espaces, on concatène les bases des espaces qui vivent dans F⁴ avec\n",
    "    ## [0,0,0,0]. Ne pas oublier d'ajouter les 4 vecteurs [0,t] avec t qui parcourt la bc de F⁴ \n",
    "    \n",
    "                                   \n",
    "    if DDT[alpha][beta]==4:\n",
    "        x0,x1=donne_x(alpha,beta)\n",
    "        return span([vector(F,list(b) + [0,0,0,0]) for b in compute_ortho(YDDT[theta][alpha]).basis()]+bcd\n",
    "               ).intersection(span([vector(F,[0,0,0,0] + list(b)) for b in compute_ortho(XDDT[beta][gamma2]\n",
    "                                                                                        ).basis() ]+bcg\n",
    "                                  ).intersection(ortho_dim2(alpha,beta).intersection((ortho_dim2(x0^^x1,S[x0]^^S[x1])))))                                  \n",
    "    else :\n",
    "        return span([vector(F,list(b) + [0,0,0,0]) for b in compute_ortho(YDDT[theta][alpha]).basis()]+bcd\n",
    "               ).intersection(span([vector(F,[0,0,0,0] + list(b)) for b in compute_ortho(XDDT[beta][gamma2]\n",
    "                                                                                        ).basis() ]+bcg\n",
    "                                  ).intersection(ortho_dim2(alpha,beta)))\n",
    "\n",
    "T=compute_T(4,2,1,8)"
   ]
  },
  {
   "cell_type": "code",
   "execution_count": 28,
   "id": "d443590d",
   "metadata": {},
   "outputs": [
    {
     "name": "stdout",
     "output_type": "stream",
     "text": [
      "[ Difference Stats ]\n",
      "/usr/lib/python3/dist-packages/sage/modules/free_module.py:847: size=8712 B (+8712 B), count=137 (+137), average=64 B\n",
      "/usr/lib/python3/dist-packages/sage/modules/free_module.py:5890: size=5760 B (+5760 B), count=10 (+10), average=576 B\n",
      "/usr/lib/python3/dist-packages/sage/modules/free_module.py:3978: size=4784 B (+4784 B), count=46 (+46), average=104 B\n",
      "/usr/lib/python3/dist-packages/sage/modules/free_module.py:5886: size=4096 B (+4096 B), count=53 (+53), average=77 B\n",
      "/usr/lib/python3/dist-packages/sage/matrix/matrix_space.py:925: size=2320 B (+2320 B), count=24 (+24), average=97 B\n",
      "/usr/lib/python3/dist-packages/sage/categories/homset.py:651: size=1936 B (+1936 B), count=32 (+32), average=60 B\n",
      "/usr/lib/python3.10/weakref.py:349: size=1360 B (+1360 B), count=17 (+17), average=80 B\n",
      "/usr/lib/python3/dist-packages/sage/structure/sequence.py:430: size=1104 B (+1104 B), count=21 (+21), average=53 B\n",
      "<frozen importlib._bootstrap>:1027: size=1024 B (+1024 B), count=2 (+2), average=512 B\n",
      "/usr/lib/python3/dist-packages/IPython/core/history.py:763: size=912 B (+912 B), count=3 (+3), average=304 B\n",
      "/usr/lib/python3/dist-packages/sage/modules/free_module.py:252: size=880 B (+880 B), count=8 (+8), average=110 B\n",
      "/usr/lib/python3/dist-packages/sage/rings/quotient_ring.py:476: size=872 B (+872 B), count=14 (+14), average=62 B\n",
      "/usr/lib/python3/dist-packages/sage/rings/finite_rings/integer_mod_ring.py:237: size=728 B (+728 B), count=7 (+7), average=104 B\n",
      "/usr/lib/python3/dist-packages/sage/rings/finite_rings/finite_field_prime_modn.py:145: size=728 B (+728 B), count=3 (+3), average=243 B\n",
      "/usr/lib/python3/dist-packages/sage/structure/sequence.py:266: size=720 B (+720 B), count=10 (+10), average=72 B\n",
      "/usr/lib/python3.10/codeop.py:118: size=928 B (+672 B), count=14 (+11), average=66 B\n",
      "/usr/lib/python3/dist-packages/sage/modules/free_module.py:5860: size=640 B (+640 B), count=10 (+10), average=64 B\n",
      "/usr/lib/python3/dist-packages/sage/modules/free_module.py:852: size=592 B (+592 B), count=2 (+2), average=296 B\n",
      "<frozen importlib._bootstrap>:241: size=560 B (+560 B), count=1 (+1), average=560 B\n",
      "/usr/lib/python3/dist-packages/sage/rings/homset.py:52: size=440 B (+440 B), count=4 (+4), average=110 B\n",
      "/usr/lib/python3/dist-packages/sage/categories/homset.py:448: size=440 B (+440 B), count=4 (+4), average=110 B\n",
      "/usr/lib/python3/dist-packages/sage/categories/modules.py:154: size=424 B (+424 B), count=5 (+5), average=85 B\n",
      "/usr/lib/python3/dist-packages/sage/structure/sequence.py:454: size=416 B (+416 B), count=10 (+10), average=42 B\n",
      "/usr/lib/python3/dist-packages/sage/modules/free_module.py:475: size=416 B (+416 B), count=7 (+7), average=59 B\n",
      "/usr/lib/python3/dist-packages/sage/modules/free_module.py:7075: size=336 B (+336 B), count=2 (+2), average=168 B\n",
      "/usr/lib/python3/dist-packages/sage/categories/category.py:447: size=320 B (+320 B), count=5 (+5), average=64 B\n",
      "/usr/lib/python3/dist-packages/sage/rings/finite_rings/integer_mod_ring.py:605: size=304 B (+304 B), count=6 (+6), average=51 B\n",
      "<frozen importlib._bootstrap>:209: size=296 B (+296 B), count=1 (+1), average=296 B\n",
      "/usr/lib/python3/dist-packages/sage/categories/magmas.py:837: size=296 B (+296 B), count=1 (+1), average=296 B\n",
      "/usr/lib/python3/dist-packages/sage/modules/free_module.py:834: size=192 B (+192 B), count=4 (+4), average=48 B\n",
      "/usr/lib/python3/dist-packages/sage/categories/vector_spaces.py:70: size=176 B (+176 B), count=3 (+3), average=59 B\n",
      "/usr/lib/python3/dist-packages/sage/rings/finite_rings/integer_mod_ring.py:198: size=172 B (+172 B), count=3 (+3), average=57 B\n",
      "/usr/lib/python3/dist-packages/sage/modules/free_module.py:3899: size=168 B (+168 B), count=1 (+1), average=168 B\n",
      "/usr/lib/python3/dist-packages/sage/modules/free_module.py:222: size=144 B (+144 B), count=2 (+2), average=72 B\n",
      "/usr/lib/python3/dist-packages/zmq/sugar/attrsettr.py:40: size=110 B (+110 B), count=2 (+2), average=55 B\n",
      "/usr/lib/python3.10/tracemalloc.py:423: size=88 B (+88 B), count=2 (+2), average=44 B\n",
      "/usr/lib/python3.10/threading.py:313: size=88 B (+88 B), count=2 (+2), average=44 B\n",
      "/usr/lib/python3/dist-packages/sage/categories/homset.py:630: size=80 B (+80 B), count=2 (+2), average=40 B\n",
      "/usr/lib/python3/dist-packages/sage/rings/finite_rings/integer_mod_ring.py:476: size=80 B (+80 B), count=1 (+1), average=80 B\n",
      "/usr/lib/python3/dist-packages/traitlets/traitlets.py:1245: size=72 B (+72 B), count=1 (+1), average=72 B\n",
      "/usr/lib/python3/dist-packages/sage/categories/category.py:520: size=71 B (+71 B), count=1 (+1), average=71 B\n",
      "/usr/lib/python3/dist-packages/sage/rings/finite_rings/integer_mod_ring.py:489: size=64 B (+64 B), count=1 (+1), average=64 B\n",
      "/usr/lib/python3/dist-packages/sage/modules/free_module.py:829: size=64 B (+64 B), count=1 (+1), average=64 B\n",
      "/usr/lib/python3/dist-packages/sage/matrix/matrix_space.py:572: size=64 B (+64 B), count=1 (+1), average=64 B\n",
      "/usr/lib/python3/dist-packages/sage/categories/category_with_axiom.py:2005: size=64 B (+64 B), count=1 (+1), average=64 B\n",
      "/usr/lib/python3.10/threading.py:604: size=64 B (+64 B), count=1 (+1), average=64 B\n",
      "/usr/lib/python3/dist-packages/IPython/core/interactiveshell.py:3371: size=152 B (+56 B), count=4 (+1), average=38 B\n",
      "/usr/lib/python3/dist-packages/IPython/core/history.py:793: size=56 B (+56 B), count=1 (+1), average=56 B\n",
      "<frozen importlib._bootstrap>:198: size=48 B (+48 B), count=1 (+1), average=48 B\n",
      "/usr/lib/python3/dist-packages/sage/rings/ideal.py:270: size=48 B (+48 B), count=1 (+1), average=48 B\n",
      "/usr/lib/python3.10/tracemalloc.py:560: size=48 B (+48 B), count=1 (+1), average=48 B\n",
      "/usr/lib/python3/dist-packages/sage/rings/ideal.py:264: size=40 B (+40 B), count=1 (+1), average=40 B\n",
      "/usr/lib/python3.10/tracemalloc.py:315: size=40 B (+40 B), count=1 (+1), average=40 B\n",
      "/usr/lib/python3.10/selectors.py:469: size=36 B (+36 B), count=1 (+1), average=36 B\n",
      "/usr/lib/python3/dist-packages/sage/rings/quotient_ring.py:911: size=35 B (+35 B), count=2 (+2), average=18 B\n",
      "/usr/lib/python3/dist-packages/sage/misc/misc.py:342: size=24 B (+24 B), count=1 (+1), average=24 B\n",
      "/usr/lib/python3/dist-packages/IPython/core/interactiveshell.py:3377: size=112 B (+0 B), count=1 (+0), average=112 B\n",
      "/usr/lib/python3/dist-packages/IPython/core/interactiveshell.py:3441: size=64 B (+0 B), count=1 (+0), average=64 B\n",
      "/usr/lib/python3/dist-packages/IPython/core/compilerop.py:178: size=28 B (+0 B), count=1 (+0), average=28 B\n"
     ]
    }
   ],
   "source": [
    "tracemalloc.start()\n",
    "snapshot1 = tracemalloc.take_snapshot()\n",
    "compute_T(4, 2, 1, 8)\n",
    "snapshot2 = tracemalloc.take_snapshot()\n",
    "# Obtenez des statistiques sur les allocations mémoire\n",
    "\n",
    "# Calculez la différence entre les deux instantanés\n",
    "stats_diff = snapshot2.compare_to(snapshot1, 'lineno')\n",
    "\n",
    "# Affichez les statistiques de différence\n",
    "print(\"[ Difference Stats ]\")\n",
    "for stat in stats_diff:\n",
    "    print(stat)"
   ]
  },
  {
   "cell_type": "code",
   "execution_count": 36,
   "id": "005bfce9",
   "metadata": {
    "scrolled": true
   },
   "outputs": [],
   "source": [
    "def compute_V(b4,T):\n",
    "    LS=computeLS(BooleanFunction(component(b4,S)))\n",
    "    \n",
    "    return AffineSubspace(list(compute_anti_ortho(LS[1][0]).intersection(AffineSubspace(0,compute_ortho(LS[0]))).point())+[0,0,0,0],span([vector(F,list(b) + [0,0,0,0])\n",
    "                                  for b in compute_anti_ortho(LS[1][0]).intersection(AffineSubspace(0,compute_ortho(LS[0]))\n",
    "                                        ).linear_part().basis()]+bcd)).intersection(AffineSubspace(0,T))\n",
    "def compute_X(alpha,beta,gamma2):\n",
    "    if DDT[alpha][beta]==2:\n",
    "        return compute_ortho(XDDT[beta][gamma2]).intersection(compute_ortho([beta]))\n",
    "    if DDT[alpha][beta]==4:\n",
    "        x0,x1=donne_x(alpha,beta)\n",
    "        return compute_ortho(XDDT[beta][gamma2]).intersection(\n",
    "            compute_ortho([beta]).intersection(compute_ortho([S[x0]^^S[x1]])))"
   ]
  },
  {
   "cell_type": "code",
   "execution_count": 37,
   "id": "37cf8e56",
   "metadata": {},
   "outputs": [
    {
     "data": {
      "text/plain": [
       "Affine space p + W where:\n",
       "  p = (0, 1, 0, 1, 0, 0, 0, 0)\n",
       "  W = Vector space of degree 8 and dimension 1 over Finite Field of size 2\n",
       "Basis matrix:\n",
       "[0 0 0 0 1 0 1 0]"
      ]
     },
     "execution_count": 37,
     "metadata": {},
     "output_type": "execute_result"
    }
   ],
   "source": [
    "compute_V(8,T)"
   ]
  },
  {
   "cell_type": "code",
   "execution_count": 31,
   "id": "cf64b1ca",
   "metadata": {},
   "outputs": [],
   "source": [
    "def constante(alpha,beta,theta,gamma1,gamma2,gamma4):\n",
    "    return (DDT[theta][alpha]*DDT[beta][gamma1]*DDT[beta][gamma2]*DDT[beta][gamma4]*DDT[alpha][beta])/(16**6)"
   ]
  },
  {
   "cell_type": "code",
   "execution_count": 45,
   "id": "8f5cbfc8",
   "metadata": {},
   "outputs": [],
   "source": [
    "def donne_borne(alpha,beta,theta,gamma1,gamma2,gamma4):## Valable uniquement si on a une charok\n",
    "    C=constante(alpha,beta,theta,gamma1,gamma2,gamma4) \n",
    "    X=compute_X(alpha,beta,gamma2)\n",
    "    T=compute_T(theta,alpha,beta,gamma2)\n",
    "    somme=2**(X.dimension())\n",
    "    for t in compute_ortho(XDDT[beta][gamma1]).intersection(compute_ortho(XDDT[beta][gamma4])).list():\n",
    "        if span([t]).dimension()>0: ## Permet de tester t!=0\n",
    "            V=compute_V(frombin(t),T)\n",
    "            if V is not None : ## L'intersection de deux espaces affines peut être vide\n",
    "                somme += 2**(V.dimension())\n",
    "    gc.collect()\n",
    "    return somme*C\n",
    "\n",
    "    "
   ]
  },
  {
   "cell_type": "code",
   "execution_count": 50,
   "id": "9edabda7",
   "metadata": {},
   "outputs": [
    {
     "data": {
      "text/plain": [
       "[]"
      ]
     },
     "execution_count": 50,
     "metadata": {},
     "output_type": "execute_result"
    }
   ],
   "source": [
    "gc.garbage"
   ]
  },
  {
   "cell_type": "code",
   "execution_count": 51,
   "id": "4e4a2edd",
   "metadata": {},
   "outputs": [],
   "source": [
    "res=[]\n",
    "beta=1\n",
    "gamma1=9\n",
    "gamma4=9\n",
    "alpha=6\n",
    "for gamma2 in tran[beta]:\n",
    "    for theta in traninv[alpha]:\n",
    "        res.append(donne_borne(alpha,beta,theta,gamma1,gamma2,gamma4))\n",
    "## Une éxécution de ce tye augmente la memoire de 2000 MiB"
   ]
  },
  {
   "cell_type": "code",
   "execution_count": 43,
   "id": "02781020",
   "metadata": {},
   "outputs": [
    {
     "data": {
      "text/plain": [
       "[2, 6, 7, 11, 14, 15]"
      ]
     },
     "execution_count": 43,
     "metadata": {},
     "output_type": "execute_result"
    }
   ],
   "source": [
    "traninv[beta]"
   ]
  },
  {
   "cell_type": "code",
   "execution_count": 50,
   "id": "216811ba",
   "metadata": {},
   "outputs": [
    {
     "data": {
      "text/plain": [
       "[0, 0, 0, 0, 0, 0, 0, 0, 12, 0, -4, 0, -4, 0, -4, 0]"
      ]
     },
     "execution_count": 50,
     "metadata": {},
     "output_type": "execute_result"
    }
   ],
   "source": [
    "##Calcul de la somme sur D1\n",
    "f=component(4,S)\n",
    "LS=computeLS(BooleanFunction(f))\n",
    "res=[0 for a in range(16)]\n",
    "for a in range(16):\n",
    "    for u in range(16):\n",
    "        if (u not in LS[0]) and (u not in LS[1]) :\n",
    "            if (f[u]+bin_dot_product(tobin(u,4),tobin(a,4),4))%2==0:\n",
    "                res[a]+=1\n",
    "            else :\n",
    "                res[a]-=1\n",
    "\n",
    "res"
   ]
  },
  {
   "cell_type": "code",
   "execution_count": 61,
   "id": "ed7944b1",
   "metadata": {},
   "outputs": [
    {
     "data": {
      "text/plain": [
       "x1*x2 + x1 + x2 + x3 + 1"
      ]
     },
     "execution_count": 61,
     "metadata": {},
     "output_type": "execute_result"
    }
   ],
   "source": [
    "BooleanFunction(component(4,S)).algebraic_normal_form()\n"
   ]
  },
  {
   "cell_type": "code",
   "execution_count": 62,
   "id": "110bba3f",
   "metadata": {},
   "outputs": [
    {
     "data": {
      "text/plain": [
       "Vector space of degree 4 and dimension 2 over Finite Field of size 2\n",
       "Basis matrix:\n",
       "[1 0 0 0]\n",
       "[0 0 0 1]"
      ]
     },
     "execution_count": 62,
     "metadata": {},
     "output_type": "execute_result"
    }
   ],
   "source": [
    "A=matrix(F,[[0,0,0,0],[0,0,1,0],[0,1,0,0],[0,0,0,0]])\n",
    "A.right_kernel()"
   ]
  }
 ],
 "metadata": {
  "kernelspec": {
   "display_name": "SageMath 9.5",
   "language": "sage",
   "name": "sagemath"
  },
  "language_info": {
   "codemirror_mode": {
    "name": "ipython",
    "version": 3
   },
   "file_extension": ".py",
   "mimetype": "text/x-python",
   "name": "python",
   "nbconvert_exporter": "python",
   "pygments_lexer": "ipython3",
   "version": "3.10.12"
  }
 },
 "nbformat": 4,
 "nbformat_minor": 5
}
